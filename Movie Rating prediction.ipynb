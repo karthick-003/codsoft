{
 "cells": [
  {
   "cell_type": "code",
   "execution_count": 1,
   "id": "c460d0ae",
   "metadata": {},
   "outputs": [],
   "source": [
    "import pandas as pd"
   ]
  },
  {
   "cell_type": "code",
   "execution_count": 2,
   "id": "ef7c8c7e",
   "metadata": {},
   "outputs": [
    {
     "data": {
      "text/html": [
       "<div>\n",
       "<style scoped>\n",
       "    .dataframe tbody tr th:only-of-type {\n",
       "        vertical-align: middle;\n",
       "    }\n",
       "\n",
       "    .dataframe tbody tr th {\n",
       "        vertical-align: top;\n",
       "    }\n",
       "\n",
       "    .dataframe thead th {\n",
       "        text-align: right;\n",
       "    }\n",
       "</style>\n",
       "<table border=\"1\" class=\"dataframe\">\n",
       "  <thead>\n",
       "    <tr style=\"text-align: right;\">\n",
       "      <th></th>\n",
       "      <th>Name</th>\n",
       "      <th>Year</th>\n",
       "      <th>Duration</th>\n",
       "      <th>Genre</th>\n",
       "      <th>Rating</th>\n",
       "      <th>Votes</th>\n",
       "      <th>Director</th>\n",
       "      <th>Actor 1</th>\n",
       "      <th>Actor 2</th>\n",
       "      <th>Actor 3</th>\n",
       "    </tr>\n",
       "  </thead>\n",
       "  <tbody>\n",
       "    <tr>\n",
       "      <th>0</th>\n",
       "      <td></td>\n",
       "      <td>NaN</td>\n",
       "      <td>NaN</td>\n",
       "      <td>Drama</td>\n",
       "      <td>NaN</td>\n",
       "      <td>NaN</td>\n",
       "      <td>J.S. Randhawa</td>\n",
       "      <td>Manmauji</td>\n",
       "      <td>Birbal</td>\n",
       "      <td>Rajendra Bhatia</td>\n",
       "    </tr>\n",
       "    <tr>\n",
       "      <th>1</th>\n",
       "      <td>#Gadhvi (He thought he was Gandhi)</td>\n",
       "      <td>(2019)</td>\n",
       "      <td>109 min</td>\n",
       "      <td>Drama</td>\n",
       "      <td>7.0</td>\n",
       "      <td>8</td>\n",
       "      <td>Gaurav Bakshi</td>\n",
       "      <td>Rasika Dugal</td>\n",
       "      <td>Vivek Ghamande</td>\n",
       "      <td>Arvind Jangid</td>\n",
       "    </tr>\n",
       "    <tr>\n",
       "      <th>2</th>\n",
       "      <td>#Homecoming</td>\n",
       "      <td>(2021)</td>\n",
       "      <td>90 min</td>\n",
       "      <td>Drama, Musical</td>\n",
       "      <td>NaN</td>\n",
       "      <td>NaN</td>\n",
       "      <td>Soumyajit Majumdar</td>\n",
       "      <td>Sayani Gupta</td>\n",
       "      <td>Plabita Borthakur</td>\n",
       "      <td>Roy Angana</td>\n",
       "    </tr>\n",
       "    <tr>\n",
       "      <th>3</th>\n",
       "      <td>#Yaaram</td>\n",
       "      <td>(2019)</td>\n",
       "      <td>110 min</td>\n",
       "      <td>Comedy, Romance</td>\n",
       "      <td>4.4</td>\n",
       "      <td>35</td>\n",
       "      <td>Ovais Khan</td>\n",
       "      <td>Prateik</td>\n",
       "      <td>Ishita Raj</td>\n",
       "      <td>Siddhant Kapoor</td>\n",
       "    </tr>\n",
       "    <tr>\n",
       "      <th>4</th>\n",
       "      <td>...And Once Again</td>\n",
       "      <td>(2010)</td>\n",
       "      <td>105 min</td>\n",
       "      <td>Drama</td>\n",
       "      <td>NaN</td>\n",
       "      <td>NaN</td>\n",
       "      <td>Amol Palekar</td>\n",
       "      <td>Rajat Kapoor</td>\n",
       "      <td>Rituparna Sengupta</td>\n",
       "      <td>Antara Mali</td>\n",
       "    </tr>\n",
       "  </tbody>\n",
       "</table>\n",
       "</div>"
      ],
      "text/plain": [
       "                                 Name    Year Duration            Genre  \\\n",
       "0                                         NaN      NaN            Drama   \n",
       "1  #Gadhvi (He thought he was Gandhi)  (2019)  109 min            Drama   \n",
       "2                         #Homecoming  (2021)   90 min   Drama, Musical   \n",
       "3                             #Yaaram  (2019)  110 min  Comedy, Romance   \n",
       "4                   ...And Once Again  (2010)  105 min            Drama   \n",
       "\n",
       "   Rating Votes            Director       Actor 1             Actor 2  \\\n",
       "0     NaN   NaN       J.S. Randhawa      Manmauji              Birbal   \n",
       "1     7.0     8       Gaurav Bakshi  Rasika Dugal      Vivek Ghamande   \n",
       "2     NaN   NaN  Soumyajit Majumdar  Sayani Gupta   Plabita Borthakur   \n",
       "3     4.4    35          Ovais Khan       Prateik          Ishita Raj   \n",
       "4     NaN   NaN        Amol Palekar  Rajat Kapoor  Rituparna Sengupta   \n",
       "\n",
       "           Actor 3  \n",
       "0  Rajendra Bhatia  \n",
       "1    Arvind Jangid  \n",
       "2       Roy Angana  \n",
       "3  Siddhant Kapoor  \n",
       "4      Antara Mali  "
      ]
     },
     "execution_count": 2,
     "metadata": {},
     "output_type": "execute_result"
    }
   ],
   "source": [
    "df=pd.read_csv('IMDb Movies India.csv',encoding='latin-1')\n",
    "df.head()"
   ]
  },
  {
   "cell_type": "code",
   "execution_count": 3,
   "id": "092da5fe",
   "metadata": {},
   "outputs": [
    {
     "name": "stdout",
     "output_type": "stream",
     "text": [
      "<class 'pandas.core.frame.DataFrame'>\n",
      "RangeIndex: 15509 entries, 0 to 15508\n",
      "Data columns (total 10 columns):\n",
      " #   Column    Non-Null Count  Dtype  \n",
      "---  ------    --------------  -----  \n",
      " 0   Name      15509 non-null  object \n",
      " 1   Year      14981 non-null  object \n",
      " 2   Duration  7240 non-null   object \n",
      " 3   Genre     13632 non-null  object \n",
      " 4   Rating    7919 non-null   float64\n",
      " 5   Votes     7920 non-null   object \n",
      " 6   Director  14984 non-null  object \n",
      " 7   Actor 1   13892 non-null  object \n",
      " 8   Actor 2   13125 non-null  object \n",
      " 9   Actor 3   12365 non-null  object \n",
      "dtypes: float64(1), object(9)\n",
      "memory usage: 1.2+ MB\n"
     ]
    }
   ],
   "source": [
    "df.info()"
   ]
  },
  {
   "cell_type": "code",
   "execution_count": 4,
   "id": "ff619c5d",
   "metadata": {},
   "outputs": [
    {
     "data": {
      "text/html": [
       "<div>\n",
       "<style scoped>\n",
       "    .dataframe tbody tr th:only-of-type {\n",
       "        vertical-align: middle;\n",
       "    }\n",
       "\n",
       "    .dataframe tbody tr th {\n",
       "        vertical-align: top;\n",
       "    }\n",
       "\n",
       "    .dataframe thead th {\n",
       "        text-align: right;\n",
       "    }\n",
       "</style>\n",
       "<table border=\"1\" class=\"dataframe\">\n",
       "  <thead>\n",
       "    <tr style=\"text-align: right;\">\n",
       "      <th></th>\n",
       "      <th>Name</th>\n",
       "      <th>Year</th>\n",
       "      <th>Duration</th>\n",
       "      <th>Genre</th>\n",
       "      <th>Rating</th>\n",
       "      <th>Votes</th>\n",
       "      <th>Director</th>\n",
       "      <th>Actor 1</th>\n",
       "      <th>Actor 2</th>\n",
       "      <th>Actor 3</th>\n",
       "    </tr>\n",
       "  </thead>\n",
       "  <tbody>\n",
       "    <tr>\n",
       "      <th>count</th>\n",
       "      <td>15509</td>\n",
       "      <td>14981</td>\n",
       "      <td>7240</td>\n",
       "      <td>13632</td>\n",
       "      <td>7919.000000</td>\n",
       "      <td>7920</td>\n",
       "      <td>14984</td>\n",
       "      <td>13892</td>\n",
       "      <td>13125</td>\n",
       "      <td>12365</td>\n",
       "    </tr>\n",
       "    <tr>\n",
       "      <th>unique</th>\n",
       "      <td>13838</td>\n",
       "      <td>102</td>\n",
       "      <td>182</td>\n",
       "      <td>485</td>\n",
       "      <td>NaN</td>\n",
       "      <td>2034</td>\n",
       "      <td>5938</td>\n",
       "      <td>4718</td>\n",
       "      <td>4891</td>\n",
       "      <td>4820</td>\n",
       "    </tr>\n",
       "    <tr>\n",
       "      <th>top</th>\n",
       "      <td>Anjaam</td>\n",
       "      <td>(2019)</td>\n",
       "      <td>120 min</td>\n",
       "      <td>Drama</td>\n",
       "      <td>NaN</td>\n",
       "      <td>8</td>\n",
       "      <td>Jayant Desai</td>\n",
       "      <td>Ashok Kumar</td>\n",
       "      <td>Rekha</td>\n",
       "      <td>Pran</td>\n",
       "    </tr>\n",
       "    <tr>\n",
       "      <th>freq</th>\n",
       "      <td>7</td>\n",
       "      <td>410</td>\n",
       "      <td>240</td>\n",
       "      <td>2780</td>\n",
       "      <td>NaN</td>\n",
       "      <td>227</td>\n",
       "      <td>58</td>\n",
       "      <td>158</td>\n",
       "      <td>83</td>\n",
       "      <td>91</td>\n",
       "    </tr>\n",
       "    <tr>\n",
       "      <th>mean</th>\n",
       "      <td>NaN</td>\n",
       "      <td>NaN</td>\n",
       "      <td>NaN</td>\n",
       "      <td>NaN</td>\n",
       "      <td>5.841621</td>\n",
       "      <td>NaN</td>\n",
       "      <td>NaN</td>\n",
       "      <td>NaN</td>\n",
       "      <td>NaN</td>\n",
       "      <td>NaN</td>\n",
       "    </tr>\n",
       "    <tr>\n",
       "      <th>std</th>\n",
       "      <td>NaN</td>\n",
       "      <td>NaN</td>\n",
       "      <td>NaN</td>\n",
       "      <td>NaN</td>\n",
       "      <td>1.381777</td>\n",
       "      <td>NaN</td>\n",
       "      <td>NaN</td>\n",
       "      <td>NaN</td>\n",
       "      <td>NaN</td>\n",
       "      <td>NaN</td>\n",
       "    </tr>\n",
       "    <tr>\n",
       "      <th>min</th>\n",
       "      <td>NaN</td>\n",
       "      <td>NaN</td>\n",
       "      <td>NaN</td>\n",
       "      <td>NaN</td>\n",
       "      <td>1.100000</td>\n",
       "      <td>NaN</td>\n",
       "      <td>NaN</td>\n",
       "      <td>NaN</td>\n",
       "      <td>NaN</td>\n",
       "      <td>NaN</td>\n",
       "    </tr>\n",
       "    <tr>\n",
       "      <th>25%</th>\n",
       "      <td>NaN</td>\n",
       "      <td>NaN</td>\n",
       "      <td>NaN</td>\n",
       "      <td>NaN</td>\n",
       "      <td>4.900000</td>\n",
       "      <td>NaN</td>\n",
       "      <td>NaN</td>\n",
       "      <td>NaN</td>\n",
       "      <td>NaN</td>\n",
       "      <td>NaN</td>\n",
       "    </tr>\n",
       "    <tr>\n",
       "      <th>50%</th>\n",
       "      <td>NaN</td>\n",
       "      <td>NaN</td>\n",
       "      <td>NaN</td>\n",
       "      <td>NaN</td>\n",
       "      <td>6.000000</td>\n",
       "      <td>NaN</td>\n",
       "      <td>NaN</td>\n",
       "      <td>NaN</td>\n",
       "      <td>NaN</td>\n",
       "      <td>NaN</td>\n",
       "    </tr>\n",
       "    <tr>\n",
       "      <th>75%</th>\n",
       "      <td>NaN</td>\n",
       "      <td>NaN</td>\n",
       "      <td>NaN</td>\n",
       "      <td>NaN</td>\n",
       "      <td>6.800000</td>\n",
       "      <td>NaN</td>\n",
       "      <td>NaN</td>\n",
       "      <td>NaN</td>\n",
       "      <td>NaN</td>\n",
       "      <td>NaN</td>\n",
       "    </tr>\n",
       "    <tr>\n",
       "      <th>max</th>\n",
       "      <td>NaN</td>\n",
       "      <td>NaN</td>\n",
       "      <td>NaN</td>\n",
       "      <td>NaN</td>\n",
       "      <td>10.000000</td>\n",
       "      <td>NaN</td>\n",
       "      <td>NaN</td>\n",
       "      <td>NaN</td>\n",
       "      <td>NaN</td>\n",
       "      <td>NaN</td>\n",
       "    </tr>\n",
       "  </tbody>\n",
       "</table>\n",
       "</div>"
      ],
      "text/plain": [
       "          Name    Year Duration  Genre       Rating Votes      Director  \\\n",
       "count    15509   14981     7240  13632  7919.000000  7920         14984   \n",
       "unique   13838     102      182    485          NaN  2034          5938   \n",
       "top     Anjaam  (2019)  120 min  Drama          NaN     8  Jayant Desai   \n",
       "freq         7     410      240   2780          NaN   227            58   \n",
       "mean       NaN     NaN      NaN    NaN     5.841621   NaN           NaN   \n",
       "std        NaN     NaN      NaN    NaN     1.381777   NaN           NaN   \n",
       "min        NaN     NaN      NaN    NaN     1.100000   NaN           NaN   \n",
       "25%        NaN     NaN      NaN    NaN     4.900000   NaN           NaN   \n",
       "50%        NaN     NaN      NaN    NaN     6.000000   NaN           NaN   \n",
       "75%        NaN     NaN      NaN    NaN     6.800000   NaN           NaN   \n",
       "max        NaN     NaN      NaN    NaN    10.000000   NaN           NaN   \n",
       "\n",
       "            Actor 1 Actor 2 Actor 3  \n",
       "count         13892   13125   12365  \n",
       "unique         4718    4891    4820  \n",
       "top     Ashok Kumar   Rekha    Pran  \n",
       "freq            158      83      91  \n",
       "mean            NaN     NaN     NaN  \n",
       "std             NaN     NaN     NaN  \n",
       "min             NaN     NaN     NaN  \n",
       "25%             NaN     NaN     NaN  \n",
       "50%             NaN     NaN     NaN  \n",
       "75%             NaN     NaN     NaN  \n",
       "max             NaN     NaN     NaN  "
      ]
     },
     "execution_count": 4,
     "metadata": {},
     "output_type": "execute_result"
    }
   ],
   "source": [
    "df.describe(include='all')"
   ]
  },
  {
   "cell_type": "code",
   "execution_count": 5,
   "id": "bfd72732",
   "metadata": {},
   "outputs": [
    {
     "data": {
      "text/plain": [
       "Name           0\n",
       "Year         528\n",
       "Duration    8269\n",
       "Genre       1877\n",
       "Rating      7590\n",
       "Votes       7589\n",
       "Director     525\n",
       "Actor 1     1617\n",
       "Actor 2     2384\n",
       "Actor 3     3144\n",
       "dtype: int64"
      ]
     },
     "execution_count": 5,
     "metadata": {},
     "output_type": "execute_result"
    }
   ],
   "source": [
    "df.isna().sum()"
   ]
  },
  {
   "cell_type": "code",
   "execution_count": 6,
   "id": "7c3f7cbf",
   "metadata": {},
   "outputs": [],
   "source": [
    "df=df.dropna()"
   ]
  },
  {
   "cell_type": "code",
   "execution_count": 7,
   "id": "eb732fb1",
   "metadata": {},
   "outputs": [
    {
     "data": {
      "text/plain": [
       "(5659, 10)"
      ]
     },
     "execution_count": 7,
     "metadata": {},
     "output_type": "execute_result"
    }
   ],
   "source": [
    "df.shape"
   ]
  },
  {
   "cell_type": "code",
   "execution_count": 8,
   "id": "bccd4510",
   "metadata": {},
   "outputs": [
    {
     "data": {
      "text/html": [
       "<div>\n",
       "<style scoped>\n",
       "    .dataframe tbody tr th:only-of-type {\n",
       "        vertical-align: middle;\n",
       "    }\n",
       "\n",
       "    .dataframe tbody tr th {\n",
       "        vertical-align: top;\n",
       "    }\n",
       "\n",
       "    .dataframe thead th {\n",
       "        text-align: right;\n",
       "    }\n",
       "</style>\n",
       "<table border=\"1\" class=\"dataframe\">\n",
       "  <thead>\n",
       "    <tr style=\"text-align: right;\">\n",
       "      <th></th>\n",
       "      <th>Name</th>\n",
       "      <th>Year</th>\n",
       "      <th>Duration</th>\n",
       "      <th>Genre</th>\n",
       "      <th>Rating</th>\n",
       "      <th>Votes</th>\n",
       "      <th>Director</th>\n",
       "      <th>Actor 1</th>\n",
       "      <th>Actor 2</th>\n",
       "      <th>Actor 3</th>\n",
       "    </tr>\n",
       "  </thead>\n",
       "  <tbody>\n",
       "    <tr>\n",
       "      <th>15493</th>\n",
       "      <td>Zubaan</td>\n",
       "      <td>(2015)</td>\n",
       "      <td>115 min</td>\n",
       "      <td>Drama</td>\n",
       "      <td>6.1</td>\n",
       "      <td>408</td>\n",
       "      <td>Mozez Singh</td>\n",
       "      <td>Vicky Kaushal</td>\n",
       "      <td>Sarah Jane Dias</td>\n",
       "      <td>Raaghavv Chanana</td>\n",
       "    </tr>\n",
       "    <tr>\n",
       "      <th>15494</th>\n",
       "      <td>Zubeidaa</td>\n",
       "      <td>(2001)</td>\n",
       "      <td>153 min</td>\n",
       "      <td>Biography, Drama, History</td>\n",
       "      <td>6.2</td>\n",
       "      <td>1,496</td>\n",
       "      <td>Shyam Benegal</td>\n",
       "      <td>Karisma Kapoor</td>\n",
       "      <td>Rekha</td>\n",
       "      <td>Manoj Bajpayee</td>\n",
       "    </tr>\n",
       "    <tr>\n",
       "      <th>15503</th>\n",
       "      <td>Zulm Ki Zanjeer</td>\n",
       "      <td>(1989)</td>\n",
       "      <td>125 min</td>\n",
       "      <td>Action, Crime, Drama</td>\n",
       "      <td>5.8</td>\n",
       "      <td>44</td>\n",
       "      <td>S.P. Muthuraman</td>\n",
       "      <td>Chiranjeevi</td>\n",
       "      <td>Jayamalini</td>\n",
       "      <td>Rajinikanth</td>\n",
       "    </tr>\n",
       "    <tr>\n",
       "      <th>15505</th>\n",
       "      <td>Zulmi</td>\n",
       "      <td>(1999)</td>\n",
       "      <td>129 min</td>\n",
       "      <td>Action, Drama</td>\n",
       "      <td>4.5</td>\n",
       "      <td>655</td>\n",
       "      <td>Kuku Kohli</td>\n",
       "      <td>Akshay Kumar</td>\n",
       "      <td>Twinkle Khanna</td>\n",
       "      <td>Aruna Irani</td>\n",
       "    </tr>\n",
       "    <tr>\n",
       "      <th>15508</th>\n",
       "      <td>Zulm-O-Sitam</td>\n",
       "      <td>(1998)</td>\n",
       "      <td>130 min</td>\n",
       "      <td>Action, Drama</td>\n",
       "      <td>6.2</td>\n",
       "      <td>20</td>\n",
       "      <td>K.C. Bokadia</td>\n",
       "      <td>Dharmendra</td>\n",
       "      <td>Jaya Prada</td>\n",
       "      <td>Arjun Sarja</td>\n",
       "    </tr>\n",
       "  </tbody>\n",
       "</table>\n",
       "</div>"
      ],
      "text/plain": [
       "                  Name    Year Duration                      Genre  Rating  \\\n",
       "15493           Zubaan  (2015)  115 min                      Drama     6.1   \n",
       "15494         Zubeidaa  (2001)  153 min  Biography, Drama, History     6.2   \n",
       "15503  Zulm Ki Zanjeer  (1989)  125 min       Action, Crime, Drama     5.8   \n",
       "15505            Zulmi  (1999)  129 min              Action, Drama     4.5   \n",
       "15508     Zulm-O-Sitam  (1998)  130 min              Action, Drama     6.2   \n",
       "\n",
       "       Votes         Director         Actor 1          Actor 2  \\\n",
       "15493    408      Mozez Singh   Vicky Kaushal  Sarah Jane Dias   \n",
       "15494  1,496    Shyam Benegal  Karisma Kapoor            Rekha   \n",
       "15503     44  S.P. Muthuraman     Chiranjeevi       Jayamalini   \n",
       "15505    655       Kuku Kohli    Akshay Kumar   Twinkle Khanna   \n",
       "15508     20     K.C. Bokadia      Dharmendra       Jaya Prada   \n",
       "\n",
       "                Actor 3  \n",
       "15493  Raaghavv Chanana  \n",
       "15494    Manoj Bajpayee  \n",
       "15503       Rajinikanth  \n",
       "15505       Aruna Irani  \n",
       "15508       Arjun Sarja  "
      ]
     },
     "execution_count": 8,
     "metadata": {},
     "output_type": "execute_result"
    }
   ],
   "source": [
    "df.tail()"
   ]
  },
  {
   "cell_type": "code",
   "execution_count": 9,
   "id": "7abc9fa0",
   "metadata": {},
   "outputs": [
    {
     "data": {
      "text/plain": [
       "Name\n",
       "#Gadhvi (He thought he was Gandhi)    1\n",
       "#Yaaram                               1\n",
       "'Ferry'                               1\n",
       "...Aur Pyaar Ho Gaya                  1\n",
       "...Yahaan                             1\n",
       "                                     ..\n",
       "Zubaan                                1\n",
       "Zubeidaa                              1\n",
       "Zulm Ki Zanjeer                       1\n",
       "Zulm-O-Sitam                          1\n",
       "Zulmi                                 1\n",
       "Name: Director, Length: 5385, dtype: int64"
      ]
     },
     "execution_count": 9,
     "metadata": {},
     "output_type": "execute_result"
    }
   ],
   "source": [
    "df['Director'].groupby(df['Name']).count()"
   ]
  },
  {
   "cell_type": "code",
   "execution_count": 10,
   "id": "ffe8cce0",
   "metadata": {},
   "outputs": [],
   "source": [
    "from string import punctuation"
   ]
  },
  {
   "cell_type": "code",
   "execution_count": 11,
   "id": "62366cf6",
   "metadata": {},
   "outputs": [],
   "source": [
    "def year(x):\n",
    "    k=\"\"\n",
    "    for i in x:\n",
    "        if i not in punctuation:\n",
    "            k+=i\n",
    "    return k"
   ]
  },
  {
   "cell_type": "code",
   "execution_count": 12,
   "id": "cdfa0adf",
   "metadata": {},
   "outputs": [],
   "source": [
    "df['Year']=df['Year'].apply(lambda x:year(x)).astype('int64')"
   ]
  },
  {
   "cell_type": "code",
   "execution_count": 13,
   "id": "8b9f1201",
   "metadata": {},
   "outputs": [
    {
     "data": {
      "text/html": [
       "<div>\n",
       "<style scoped>\n",
       "    .dataframe tbody tr th:only-of-type {\n",
       "        vertical-align: middle;\n",
       "    }\n",
       "\n",
       "    .dataframe tbody tr th {\n",
       "        vertical-align: top;\n",
       "    }\n",
       "\n",
       "    .dataframe thead th {\n",
       "        text-align: right;\n",
       "    }\n",
       "</style>\n",
       "<table border=\"1\" class=\"dataframe\">\n",
       "  <thead>\n",
       "    <tr style=\"text-align: right;\">\n",
       "      <th></th>\n",
       "      <th>Name</th>\n",
       "      <th>Year</th>\n",
       "      <th>Duration</th>\n",
       "      <th>Genre</th>\n",
       "      <th>Rating</th>\n",
       "      <th>Votes</th>\n",
       "      <th>Director</th>\n",
       "      <th>Actor 1</th>\n",
       "      <th>Actor 2</th>\n",
       "      <th>Actor 3</th>\n",
       "    </tr>\n",
       "  </thead>\n",
       "  <tbody>\n",
       "    <tr>\n",
       "      <th>1</th>\n",
       "      <td>#Gadhvi (He thought he was Gandhi)</td>\n",
       "      <td>2019</td>\n",
       "      <td>109 min</td>\n",
       "      <td>Drama</td>\n",
       "      <td>7.0</td>\n",
       "      <td>8</td>\n",
       "      <td>Gaurav Bakshi</td>\n",
       "      <td>Rasika Dugal</td>\n",
       "      <td>Vivek Ghamande</td>\n",
       "      <td>Arvind Jangid</td>\n",
       "    </tr>\n",
       "    <tr>\n",
       "      <th>3</th>\n",
       "      <td>#Yaaram</td>\n",
       "      <td>2019</td>\n",
       "      <td>110 min</td>\n",
       "      <td>Comedy, Romance</td>\n",
       "      <td>4.4</td>\n",
       "      <td>35</td>\n",
       "      <td>Ovais Khan</td>\n",
       "      <td>Prateik</td>\n",
       "      <td>Ishita Raj</td>\n",
       "      <td>Siddhant Kapoor</td>\n",
       "    </tr>\n",
       "    <tr>\n",
       "      <th>5</th>\n",
       "      <td>...Aur Pyaar Ho Gaya</td>\n",
       "      <td>1997</td>\n",
       "      <td>147 min</td>\n",
       "      <td>Comedy, Drama, Musical</td>\n",
       "      <td>4.7</td>\n",
       "      <td>827</td>\n",
       "      <td>Rahul Rawail</td>\n",
       "      <td>Bobby Deol</td>\n",
       "      <td>Aishwarya Rai Bachchan</td>\n",
       "      <td>Shammi Kapoor</td>\n",
       "    </tr>\n",
       "    <tr>\n",
       "      <th>6</th>\n",
       "      <td>...Yahaan</td>\n",
       "      <td>2005</td>\n",
       "      <td>142 min</td>\n",
       "      <td>Drama, Romance, War</td>\n",
       "      <td>7.4</td>\n",
       "      <td>1,086</td>\n",
       "      <td>Shoojit Sircar</td>\n",
       "      <td>Jimmy Sheirgill</td>\n",
       "      <td>Minissha Lamba</td>\n",
       "      <td>Yashpal Sharma</td>\n",
       "    </tr>\n",
       "    <tr>\n",
       "      <th>8</th>\n",
       "      <td>?: A Question Mark</td>\n",
       "      <td>2012</td>\n",
       "      <td>82 min</td>\n",
       "      <td>Horror, Mystery, Thriller</td>\n",
       "      <td>5.6</td>\n",
       "      <td>326</td>\n",
       "      <td>Allyson Patel</td>\n",
       "      <td>Yash Dave</td>\n",
       "      <td>Muntazir Ahmad</td>\n",
       "      <td>Kiran Bhatia</td>\n",
       "    </tr>\n",
       "  </tbody>\n",
       "</table>\n",
       "</div>"
      ],
      "text/plain": [
       "                                 Name  Year Duration  \\\n",
       "1  #Gadhvi (He thought he was Gandhi)  2019  109 min   \n",
       "3                             #Yaaram  2019  110 min   \n",
       "5                ...Aur Pyaar Ho Gaya  1997  147 min   \n",
       "6                           ...Yahaan  2005  142 min   \n",
       "8                  ?: A Question Mark  2012   82 min   \n",
       "\n",
       "                       Genre  Rating  Votes        Director          Actor 1  \\\n",
       "1                      Drama     7.0      8   Gaurav Bakshi     Rasika Dugal   \n",
       "3            Comedy, Romance     4.4     35      Ovais Khan          Prateik   \n",
       "5     Comedy, Drama, Musical     4.7    827    Rahul Rawail       Bobby Deol   \n",
       "6        Drama, Romance, War     7.4  1,086  Shoojit Sircar  Jimmy Sheirgill   \n",
       "8  Horror, Mystery, Thriller     5.6    326   Allyson Patel        Yash Dave   \n",
       "\n",
       "                  Actor 2          Actor 3  \n",
       "1          Vivek Ghamande    Arvind Jangid  \n",
       "3              Ishita Raj  Siddhant Kapoor  \n",
       "5  Aishwarya Rai Bachchan    Shammi Kapoor  \n",
       "6          Minissha Lamba   Yashpal Sharma  \n",
       "8          Muntazir Ahmad     Kiran Bhatia  "
      ]
     },
     "execution_count": 13,
     "metadata": {},
     "output_type": "execute_result"
    }
   ],
   "source": [
    "df.head()"
   ]
  },
  {
   "cell_type": "code",
   "execution_count": 14,
   "id": "75711246",
   "metadata": {},
   "outputs": [],
   "source": [
    "from collections import Counter"
   ]
  },
  {
   "cell_type": "code",
   "execution_count": 15,
   "id": "80d39f29",
   "metadata": {},
   "outputs": [],
   "source": [
    "count=Counter(df['Genre'])"
   ]
  },
  {
   "cell_type": "code",
   "execution_count": 16,
   "id": "f6378fe6",
   "metadata": {},
   "outputs": [],
   "source": [
    "import matplotlib.pyplot as plt"
   ]
  },
  {
   "cell_type": "code",
   "execution_count": 17,
   "id": "288b4799",
   "metadata": {},
   "outputs": [
    {
     "data": {
      "text/plain": [
       "Text(0, 0.5, 'count')"
      ]
     },
     "execution_count": 17,
     "metadata": {},
     "output_type": "execute_result"
    },
    {
     "data": {
      "image/png": "[encoded data removed]",
      "text/plain": [
       "<Figure size 640x480 with 1 Axes>"
      ]
     },
     "metadata": {},
     "output_type": "display_data"
    }
   ],
   "source": [
    "l=[year for year,name in df['Name'].groupby(df['Year']).count().items()]\n",
    "plt.plot(l,df['Name'].groupby(df['Year']).count().values,'.-b')\n",
    "plt.title(\"Movie release according to year\")\n",
    "plt.xlabel(\"Year\")\n",
    "plt.ylabel('count')"
   ]
  },
  {
   "cell_type": "code",
   "execution_count": 18,
   "id": "e4482704",
   "metadata": {},
   "outputs": [
    {
     "data": {
      "text/plain": [
       "376"
      ]
     },
     "execution_count": 18,
     "metadata": {},
     "output_type": "execute_result"
    }
   ],
   "source": [
    "df['Genre'].nunique()"
   ]
  },
  {
   "cell_type": "code",
   "execution_count": 19,
   "id": "0998b85b",
   "metadata": {},
   "outputs": [
    {
     "name": "stdout",
     "output_type": "stream",
     "text": [
      "(array([286.,  30.,  14.,   8.,   7.,   1.,   6.,   4.,   2.,   0.,   1.,\n",
      "         2.,   1.,   0.,   1.,   0.,   2.,   0.,   1.,   1.,   0.,   0.,\n",
      "         0.,   0.,   1.,   0.,   1.,   0.,   2.,   0.,   0.,   2.,   0.,\n",
      "         0.,   0.,   0.,   0.,   0.,   0.,   0.,   0.,   0.,   0.,   0.,\n",
      "         0.,   0.,   0.,   0.,   0.,   0.,   1.,   1.,   0.,   0.,   0.,\n",
      "         0.,   0.,   0.,   0.,   0.,   0.,   0.,   0.,   0.,   0.,   0.,\n",
      "         0.,   0.,   0.,   0.,   0.,   0.,   0.,   0.,   0.,   0.,   0.,\n",
      "         0.,   0.,   0.,   0.,   0.,   0.,   0.,   0.,   0.,   0.,   0.,\n",
      "         0.,   0.,   0.,   0.,   0.,   0.,   0.,   0.,   0.,   0.,   0.,\n",
      "         0.,   0.,   0.,   0.,   0.,   0.,   0.,   0.,   0.,   0.,   0.,\n",
      "         0.,   0.,   0.,   0.,   0.,   0.,   0.,   0.,   0.,   0.,   0.,\n",
      "         0.,   0.,   0.,   0.,   0.,   0.,   0.,   0.,   1.]), array([  1.        ,   7.48461538,  13.96923077,  20.45384615,\n",
      "        26.93846154,  33.42307692,  39.90769231,  46.39230769,\n",
      "        52.87692308,  59.36153846,  65.84615385,  72.33076923,\n",
      "        78.81538462,  85.3       ,  91.78461538,  98.26923077,\n",
      "       104.75384615, 111.23846154, 117.72307692, 124.20769231,\n",
      "       130.69230769, 137.17692308, 143.66153846, 150.14615385,\n",
      "       156.63076923, 163.11538462, 169.6       , 176.08461538,\n",
      "       182.56923077, 189.05384615, 195.53846154, 202.02307692,\n",
      "       208.50769231, 214.99230769, 221.47692308, 227.96153846,\n",
      "       234.44615385, 240.93076923, 247.41538462, 253.9       ,\n",
      "       260.38461538, 266.86923077, 273.35384615, 279.83846154,\n",
      "       286.32307692, 292.80769231, 299.29230769, 305.77692308,\n",
      "       312.26153846, 318.74615385, 325.23076923, 331.71538462,\n",
      "       338.2       , 344.68461538, 351.16923077, 357.65384615,\n",
      "       364.13846154, 370.62307692, 377.10769231, 383.59230769,\n",
      "       390.07692308, 396.56153846, 403.04615385, 409.53076923,\n",
      "       416.01538462, 422.5       , 428.98461538, 435.46923077,\n",
      "       441.95384615, 448.43846154, 454.92307692, 461.40769231,\n",
      "       467.89230769, 474.37692308, 480.86153846, 487.34615385,\n",
      "       493.83076923, 500.31538462, 506.8       , 513.28461538,\n",
      "       519.76923077, 526.25384615, 532.73846154, 539.22307692,\n",
      "       545.70769231, 552.19230769, 558.67692308, 565.16153846,\n",
      "       571.64615385, 578.13076923, 584.61538462, 591.1       ,\n",
      "       597.58461538, 604.06923077, 610.55384615, 617.03846154,\n",
      "       623.52307692, 630.00769231, 636.49230769, 642.97692308,\n",
      "       649.46153846, 655.94615385, 662.43076923, 668.91538462,\n",
      "       675.4       , 681.88461538, 688.36923077, 694.85384615,\n",
      "       701.33846154, 707.82307692, 714.30769231, 720.79230769,\n",
      "       727.27692308, 733.76153846, 740.24615385, 746.73076923,\n",
      "       753.21538462, 759.7       , 766.18461538, 772.66923077,\n",
      "       779.15384615, 785.63846154, 792.12307692, 798.60769231,\n",
      "       805.09230769, 811.57692308, 818.06153846, 824.54615385,\n",
      "       831.03076923, 837.51538462, 844.        ]), <BarContainer object of 130 artists>)\n"
     ]
    },
    {
     "data": {
      "image/png": "[encoded data removed]",
      "text/plain": [
       "<Figure size 640x480 with 1 Axes>"
      ]
     },
     "metadata": {},
     "output_type": "display_data"
    }
   ],
   "source": [
    "print(plt.hist(sorted(df['Rating'].groupby(df['Genre']).count(),reverse=True),bins=130))"
   ]
  },
  {
   "cell_type": "code",
   "execution_count": 20,
   "id": "bcb070dd",
   "metadata": {},
   "outputs": [],
   "source": [
    "def duration(x):\n",
    "    k=\"\"\n",
    "    for i in x:\n",
    "        if i.isdigit():\n",
    "            k+=i\n",
    "    return k"
   ]
  },
  {
   "cell_type": "code",
   "execution_count": 21,
   "id": "834dc57b",
   "metadata": {},
   "outputs": [],
   "source": [
    "df['Duration']=df['Duration'].apply(lambda x:duration(x)).astype('int32')"
   ]
  },
  {
   "cell_type": "code",
   "execution_count": 22,
   "id": "9a5f06c5",
   "metadata": {},
   "outputs": [
    {
     "data": {
      "text/html": [
       "<div>\n",
       "<style scoped>\n",
       "    .dataframe tbody tr th:only-of-type {\n",
       "        vertical-align: middle;\n",
       "    }\n",
       "\n",
       "    .dataframe tbody tr th {\n",
       "        vertical-align: top;\n",
       "    }\n",
       "\n",
       "    .dataframe thead th {\n",
       "        text-align: right;\n",
       "    }\n",
       "</style>\n",
       "<table border=\"1\" class=\"dataframe\">\n",
       "  <thead>\n",
       "    <tr style=\"text-align: right;\">\n",
       "      <th></th>\n",
       "      <th>Name</th>\n",
       "      <th>Year</th>\n",
       "      <th>Duration</th>\n",
       "      <th>Genre</th>\n",
       "      <th>Rating</th>\n",
       "      <th>Votes</th>\n",
       "      <th>Director</th>\n",
       "      <th>Actor 1</th>\n",
       "      <th>Actor 2</th>\n",
       "      <th>Actor 3</th>\n",
       "    </tr>\n",
       "  </thead>\n",
       "  <tbody>\n",
       "    <tr>\n",
       "      <th>1</th>\n",
       "      <td>#Gadhvi (He thought he was Gandhi)</td>\n",
       "      <td>2019</td>\n",
       "      <td>109</td>\n",
       "      <td>Drama</td>\n",
       "      <td>7.0</td>\n",
       "      <td>8</td>\n",
       "      <td>Gaurav Bakshi</td>\n",
       "      <td>Rasika Dugal</td>\n",
       "      <td>Vivek Ghamande</td>\n",
       "      <td>Arvind Jangid</td>\n",
       "    </tr>\n",
       "    <tr>\n",
       "      <th>3</th>\n",
       "      <td>#Yaaram</td>\n",
       "      <td>2019</td>\n",
       "      <td>110</td>\n",
       "      <td>Comedy, Romance</td>\n",
       "      <td>4.4</td>\n",
       "      <td>35</td>\n",
       "      <td>Ovais Khan</td>\n",
       "      <td>Prateik</td>\n",
       "      <td>Ishita Raj</td>\n",
       "      <td>Siddhant Kapoor</td>\n",
       "    </tr>\n",
       "    <tr>\n",
       "      <th>5</th>\n",
       "      <td>...Aur Pyaar Ho Gaya</td>\n",
       "      <td>1997</td>\n",
       "      <td>147</td>\n",
       "      <td>Comedy, Drama, Musical</td>\n",
       "      <td>4.7</td>\n",
       "      <td>827</td>\n",
       "      <td>Rahul Rawail</td>\n",
       "      <td>Bobby Deol</td>\n",
       "      <td>Aishwarya Rai Bachchan</td>\n",
       "      <td>Shammi Kapoor</td>\n",
       "    </tr>\n",
       "    <tr>\n",
       "      <th>6</th>\n",
       "      <td>...Yahaan</td>\n",
       "      <td>2005</td>\n",
       "      <td>142</td>\n",
       "      <td>Drama, Romance, War</td>\n",
       "      <td>7.4</td>\n",
       "      <td>1,086</td>\n",
       "      <td>Shoojit Sircar</td>\n",
       "      <td>Jimmy Sheirgill</td>\n",
       "      <td>Minissha Lamba</td>\n",
       "      <td>Yashpal Sharma</td>\n",
       "    </tr>\n",
       "    <tr>\n",
       "      <th>8</th>\n",
       "      <td>?: A Question Mark</td>\n",
       "      <td>2012</td>\n",
       "      <td>82</td>\n",
       "      <td>Horror, Mystery, Thriller</td>\n",
       "      <td>5.6</td>\n",
       "      <td>326</td>\n",
       "      <td>Allyson Patel</td>\n",
       "      <td>Yash Dave</td>\n",
       "      <td>Muntazir Ahmad</td>\n",
       "      <td>Kiran Bhatia</td>\n",
       "    </tr>\n",
       "  </tbody>\n",
       "</table>\n",
       "</div>"
      ],
      "text/plain": [
       "                                 Name  Year  Duration  \\\n",
       "1  #Gadhvi (He thought he was Gandhi)  2019       109   \n",
       "3                             #Yaaram  2019       110   \n",
       "5                ...Aur Pyaar Ho Gaya  1997       147   \n",
       "6                           ...Yahaan  2005       142   \n",
       "8                  ?: A Question Mark  2012        82   \n",
       "\n",
       "                       Genre  Rating  Votes        Director          Actor 1  \\\n",
       "1                      Drama     7.0      8   Gaurav Bakshi     Rasika Dugal   \n",
       "3            Comedy, Romance     4.4     35      Ovais Khan          Prateik   \n",
       "5     Comedy, Drama, Musical     4.7    827    Rahul Rawail       Bobby Deol   \n",
       "6        Drama, Romance, War     7.4  1,086  Shoojit Sircar  Jimmy Sheirgill   \n",
       "8  Horror, Mystery, Thriller     5.6    326   Allyson Patel        Yash Dave   \n",
       "\n",
       "                  Actor 2          Actor 3  \n",
       "1          Vivek Ghamande    Arvind Jangid  \n",
       "3              Ishita Raj  Siddhant Kapoor  \n",
       "5  Aishwarya Rai Bachchan    Shammi Kapoor  \n",
       "6          Minissha Lamba   Yashpal Sharma  \n",
       "8          Muntazir Ahmad     Kiran Bhatia  "
      ]
     },
     "execution_count": 22,
     "metadata": {},
     "output_type": "execute_result"
    }
   ],
   "source": [
    "df.head()"
   ]
  },
  {
   "cell_type": "code",
   "execution_count": 23,
   "id": "d323abad",
   "metadata": {},
   "outputs": [],
   "source": [
    "from sklearn.preprocessing import LabelEncoder"
   ]
  },
  {
   "cell_type": "code",
   "execution_count": 24,
   "id": "dfbbf6d3",
   "metadata": {},
   "outputs": [],
   "source": [
    "le=LabelEncoder()\n",
    "df['Genre']=le.fit_transform(df['Genre'])"
   ]
  },
  {
   "cell_type": "code",
   "execution_count": 25,
   "id": "7e6494f8",
   "metadata": {},
   "outputs": [],
   "source": [
    "def votes(x):\n",
    "    k=\"\"\n",
    "    for i in x:\n",
    "        if i not in punctuation:\n",
    "            k+=i\n",
    "    return k"
   ]
  },
  {
   "cell_type": "code",
   "execution_count": 26,
   "id": "59772028",
   "metadata": {},
   "outputs": [],
   "source": [
    "df['Votes']=df['Votes'].apply(lambda x:votes(x))"
   ]
  },
  {
   "cell_type": "code",
   "execution_count": 27,
   "id": "4748b5ea",
   "metadata": {},
   "outputs": [],
   "source": [
    "from sklearn.model_selection import train_test_split"
   ]
  },
  {
   "cell_type": "code",
   "execution_count": 28,
   "id": "c02280c3",
   "metadata": {},
   "outputs": [],
   "source": [
    "x=df.loc[:,['Year','Duration','Votes','Genre']]\n",
    "y=df['Rating']\n",
    "x_train,x_test,y_train,y_test=train_test_split(x,y,test_size=0.2,random_state=101)"
   ]
  },
  {
   "cell_type": "code",
   "execution_count": 29,
   "id": "c43eebf0",
   "metadata": {},
   "outputs": [
    {
     "data": {
      "text/plain": [
       "((4527, 4), (1132, 4), (4527,), (1132,))"
      ]
     },
     "execution_count": 29,
     "metadata": {},
     "output_type": "execute_result"
    }
   ],
   "source": [
    "x_train.shape,x_test.shape,y_train.shape,y_test.shape"
   ]
  },
  {
   "cell_type": "code",
   "execution_count": 30,
   "id": "c7ca7331",
   "metadata": {},
   "outputs": [],
   "source": [
    "from sklearn.ensemble import RandomForestRegressor"
   ]
  },
  {
   "cell_type": "code",
   "execution_count": 31,
   "id": "8d983227",
   "metadata": {},
   "outputs": [],
   "source": [
    "rfc=RandomForestRegressor()\n",
    "rfc.fit(x_train,y_train)\n",
    "y_pred=rfc.predict(x_test)"
   ]
  },
  {
   "cell_type": "code",
   "execution_count": 32,
   "id": "2651222c",
   "metadata": {},
   "outputs": [
    {
     "data": {
      "text/plain": [
       "0.330887564883244"
      ]
     },
     "execution_count": 32,
     "metadata": {},
     "output_type": "execute_result"
    }
   ],
   "source": [
    "rfc.score(x_test,y_test)"
   ]
  },
  {
   "cell_type": "code",
   "execution_count": 56,
   "id": "856ef825",
   "metadata": {},
   "outputs": [],
   "source": [
    "def predict(year,duration,votes,genre):\n",
    "    genre=le.transform([\"Drama\"])[0]\n",
    "    return rfc.predict([[year,duration,votes,genre]])"
   ]
  },
  {
   "cell_type": "code",
   "execution_count": 57,
   "id": "29ee18e5",
   "metadata": {},
   "outputs": [
    {
     "name": "stdout",
     "output_type": "stream",
     "text": [
      "[5.218]\n"
     ]
    },
    {
     "name": "stderr",
     "output_type": "stream",
     "text": [
      "C:\\Users\\karthick\\anaconda3\\Lib\\site-packages\\sklearn\\base.py:493: UserWarning: X does not have valid feature names, but RandomForestRegressor was fitted with feature names\n",
      "  warnings.warn(\n"
     ]
    }
   ],
   "source": [
    "print(predict(2003,103,6.6,1))"
   ]
  },
  {
   "cell_type": "code",
   "execution_count": null,
   "id": "e90e497d",
   "metadata": {},
   "outputs": [],
   "source": []
  }
 ],
 "metadata": {
  "kernelspec": {
   "display_name": "Python 3 (ipykernel)",
   "language": "python",
   "name": "python3"
  },
  "language_info": {
   "codemirror_mode": {
    "name": "ipython",
    "version": 3
   },
   "file_extension": ".py",
   "mimetype": "text/x-python",
   "name": "python",
   "nbconvert_exporter": "python",
   "pygments_lexer": "ipython3",
   "version": "3.11.4"
  }
 },
 "nbformat": 4,
 "nbformat_minor": 5
}
